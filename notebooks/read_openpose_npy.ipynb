{
 "cells": [
  {
   "cell_type": "code",
   "id": "initial_id",
   "metadata": {
    "collapsed": true,
    "ExecuteTime": {
     "end_time": "2025-08-17T14:08:28.603242Z",
     "start_time": "2025-08-17T14:08:28.599188Z"
    }
   },
   "source": [
    "import numpy as np\n",
    "from pathlib import Path"
   ],
   "outputs": [],
   "execution_count": 2
  },
  {
   "metadata": {
    "ExecuteTime": {
     "end_time": "2025-08-17T14:09:23.365388Z",
     "start_time": "2025-08-17T14:09:23.358543Z"
    }
   },
   "cell_type": "code",
   "source": [
    "# 文件路径\n",
    "file_path = Path(\"F:\\IC\\\\fall_detection_code\\\\output\\\\fall-01-cam0-rgb.npy\")\n",
    "\n",
    "# 读取 .npy 文件\n",
    "data = np.load(file_path)\n",
    "\n",
    "print(\"文件路径:\", file_path)\n",
    "print(\"数据类型:\", type(data))\n",
    "print(\"数组 dtype:\", data.dtype)\n",
    "print(\"数组形状:\", data.shape)\n",
    "\n",
    "# 打印前几帧\n",
    "if data.ndim == 2:  # 常见情况: (T, D)\n",
    "    T, D = data.shape\n",
    "    print(f\"时间步数: {T}, 特征维度: {D}\")\n",
    "    print(\"前 2 帧数据:\")\n",
    "    print(data[:2])\n",
    "elif data.ndim == 3:  # 有可能存 (T, J, 2)\n",
    "    T, J, C = data.shape\n",
    "    print(f\"时间步数: {T}, 关键点数: {J}, 每点维度: {C}\")\n",
    "    print(\"前 1 帧数据:\")\n",
    "    print(data[0])\n",
    "else:\n",
    "    print(\"未知数据维度，请手动检查\")\n"
   ],
   "id": "4c8a766ab156b972",
   "outputs": [
    {
     "name": "stdout",
     "output_type": "stream",
     "text": [
      "文件路径: F:\\IC\\fall_detection_code\\output\\fall-01-cam0-rgb.npy\n",
      "数据类型: <class 'numpy.ndarray'>\n",
      "数组 dtype: int32\n",
      "数组形状: (160, 18, 2)\n",
      "时间步数: 160, 关键点数: 18, 每点维度: 2\n",
      "前 1 帧数据:\n",
      "[[85 17]\n",
      " [87 22]\n",
      " [82 22]\n",
      " [80 27]\n",
      " [80 32]\n",
      " [91 22]\n",
      " [93 27]\n",
      " [93 32]\n",
      " [85 34]\n",
      " [82 40]\n",
      " [82 48]\n",
      " [89 32]\n",
      " [91 40]\n",
      " [91 48]\n",
      " [85 17]\n",
      " [87 17]\n",
      " [82 17]\n",
      " [89 17]]\n"
     ]
    }
   ],
   "execution_count": 5
  }
 ],
 "metadata": {
  "kernelspec": {
   "display_name": "Python 3",
   "language": "python",
   "name": "python3"
  },
  "language_info": {
   "codemirror_mode": {
    "name": "ipython",
    "version": 2
   },
   "file_extension": ".py",
   "mimetype": "text/x-python",
   "name": "python",
   "nbconvert_exporter": "python",
   "pygments_lexer": "ipython2",
   "version": "2.7.6"
  }
 },
 "nbformat": 4,
 "nbformat_minor": 5
}
